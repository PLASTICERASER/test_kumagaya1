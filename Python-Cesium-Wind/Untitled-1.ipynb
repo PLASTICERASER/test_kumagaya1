{
 "cells": [
  {
   "cell_type": "code",
   "execution_count": null,
   "metadata": {},
   "outputs": [],
   "source": []
  },
  {
   "cell_type": "code",
   "execution_count": null,
   "metadata": {},
   "outputs": [],
   "source": []
  },
  {
   "cell_type": "code",
   "execution_count": null,
   "metadata": {},
   "outputs": [],
   "source": []
  },
  {
   "cell_type": "markdown",
   "metadata": {},
   "source": []
  },
  {
   "cell_type": "markdown",
   "metadata": {},
   "source": []
  },
  {
   "cell_type": "code",
   "execution_count": 18,
   "metadata": {},
   "outputs": [
    {
     "name": "stdout",
     "output_type": "stream",
     "text": [
      "Requirement already satisfied: smopy in c:\\users\\kogan\\appdata\\local\\programs\\python\\python38\\lib\\site-packages (0.0.8)Note: you may need to restart the kernel to use updated packages.\n",
      "\n",
      "Requirement already satisfied: six in c:\\users\\kogan\\appdata\\local\\programs\\python\\python38\\lib\\site-packages (from smopy) (1.16.0)\n",
      "Requirement already satisfied: pillow in c:\\users\\kogan\\appdata\\local\\programs\\python\\python38\\lib\\site-packages (from smopy) (9.2.0)\n",
      "Requirement already satisfied: numpy in c:\\users\\kogan\\appdata\\local\\programs\\python\\python38\\lib\\site-packages (from smopy) (1.23.2)\n",
      "Requirement already satisfied: matplotlib in c:\\users\\kogan\\appdata\\local\\programs\\python\\python38\\lib\\site-packages (from smopy) (3.5.3)\n",
      "Requirement already satisfied: python-dateutil>=2.7 in c:\\users\\kogan\\appdata\\local\\programs\\python\\python38\\lib\\site-packages (from matplotlib->smopy) (2.8.2)\n",
      "Requirement already satisfied: pyparsing>=2.2.1 in c:\\users\\kogan\\appdata\\local\\programs\\python\\python38\\lib\\site-packages (from matplotlib->smopy) (3.0.9)\n",
      "Requirement already satisfied: fonttools>=4.22.0 in c:\\users\\kogan\\appdata\\local\\programs\\python\\python38\\lib\\site-packages (from matplotlib->smopy) (4.36.0)\n",
      "Requirement already satisfied: kiwisolver>=1.0.1 in c:\\users\\kogan\\appdata\\local\\programs\\python\\python38\\lib\\site-packages (from matplotlib->smopy) (1.4.4)\n",
      "Requirement already satisfied: cycler>=0.10 in c:\\users\\kogan\\appdata\\local\\programs\\python\\python38\\lib\\site-packages (from matplotlib->smopy) (0.11.0)\n",
      "Requirement already satisfied: packaging>=20.0 in c:\\users\\kogan\\appdata\\local\\programs\\python\\python38\\lib\\site-packages (from matplotlib->smopy) (21.3)\n"
     ]
    },
    {
     "name": "stderr",
     "output_type": "stream",
     "text": [
      "WARNING: You are using pip version 20.1.1; however, version 22.2.2 is available.\n",
      "You should consider upgrading via the 'c:\\Users\\kogan\\AppData\\Local\\Programs\\Python\\Python38\\python.exe -m pip install --upgrade pip' command.\n"
     ]
    }
   ],
   "source": [
    "pip install smopy \n"
   ]
  },
  {
   "cell_type": "code",
   "execution_count": 19,
   "metadata": {},
   "outputs": [
    {
     "name": "stdout",
     "output_type": "stream",
     "text": [
      "Requirement already satisfied: opencv-contrib-python in c:\\users\\kogan\\appdata\\local\\programs\\python\\python38\\lib\\site-packages (4.6.0.66)\n",
      "Requirement already satisfied: numpy>=1.17.3; python_version >= \"3.8\" in c:\\users\\kogan\\appdata\\local\\programs\\python\\python38\\lib\\site-packages (from opencv-contrib-python) (1.23.2)\n",
      "Note: you may need to restart the kernel to use updated packages.\n"
     ]
    },
    {
     "name": "stderr",
     "output_type": "stream",
     "text": [
      "WARNING: You are using pip version 20.1.1; however, version 22.2.2 is available.\n",
      "You should consider upgrading via the 'c:\\Users\\kogan\\AppData\\Local\\Programs\\Python\\Python38\\python.exe -m pip install --upgrade pip' command.\n"
     ]
    }
   ],
   "source": [
    "pip install opencv-contrib-python"
   ]
  },
  {
   "cell_type": "code",
   "execution_count": 20,
   "metadata": {},
   "outputs": [
    {
     "name": "stdout",
     "output_type": "stream",
     "text": [
      "Requirement already satisfied: numpy in c:\\users\\kogan\\appdata\\local\\programs\\python\\python38\\lib\\site-packages (1.23.2)\n",
      "Note: you may need to restart the kernel to use updated packages.\n"
     ]
    },
    {
     "name": "stderr",
     "output_type": "stream",
     "text": [
      "WARNING: You are using pip version 20.1.1; however, version 22.2.2 is available.\n",
      "You should consider upgrading via the 'c:\\Users\\kogan\\AppData\\Local\\Programs\\Python\\Python38\\python.exe -m pip install --upgrade pip' command.\n"
     ]
    }
   ],
   "source": [
    "pip install numpy"
   ]
  },
  {
   "cell_type": "code",
   "execution_count": 21,
   "metadata": {},
   "outputs": [
    {
     "name": "stdout",
     "output_type": "stream",
     "text": [
      "Requirement already satisfied: matplotlib in c:\\users\\kogan\\appdata\\local\\programs\\python\\python38\\lib\\site-packages (3.5.3)Note: you may need to restart the kernel to use updated packages.\n",
      "\n",
      "Requirement already satisfied: kiwisolver>=1.0.1 in c:\\users\\kogan\\appdata\\local\\programs\\python\\python38\\lib\\site-packages (from matplotlib) (1.4.4)\n",
      "Requirement already satisfied: fonttools>=4.22.0 in c:\\users\\kogan\\appdata\\local\\programs\\python\\python38\\lib\\site-packages (from matplotlib) (4.36.0)\n",
      "Requirement already satisfied: cycler>=0.10 in c:\\users\\kogan\\appdata\\local\\programs\\python\\python38\\lib\\site-packages (from matplotlib) (0.11.0)\n",
      "Requirement already satisfied: pillow>=6.2.0 in c:\\users\\kogan\\appdata\\local\\programs\\python\\python38\\lib\\site-packages (from matplotlib) (9.2.0)\n",
      "Requirement already satisfied: python-dateutil>=2.7 in c:\\users\\kogan\\appdata\\local\\programs\\python\\python38\\lib\\site-packages (from matplotlib) (2.8.2)\n",
      "Requirement already satisfied: pyparsing>=2.2.1 in c:\\users\\kogan\\appdata\\local\\programs\\python\\python38\\lib\\site-packages (from matplotlib) (3.0.9)\n",
      "Requirement already satisfied: numpy>=1.17 in c:\\users\\kogan\\appdata\\local\\programs\\python\\python38\\lib\\site-packages (from matplotlib) (1.23.2)\n",
      "Requirement already satisfied: packaging>=20.0 in c:\\users\\kogan\\appdata\\local\\programs\\python\\python38\\lib\\site-packages (from matplotlib) (21.3)\n",
      "Requirement already satisfied: six>=1.5 in c:\\users\\kogan\\appdata\\local\\programs\\python\\python38\\lib\\site-packages (from python-dateutil>=2.7->matplotlib) (1.16.0)\n"
     ]
    },
    {
     "name": "stderr",
     "output_type": "stream",
     "text": [
      "WARNING: You are using pip version 20.1.1; however, version 22.2.2 is available.\n",
      "You should consider upgrading via the 'c:\\Users\\kogan\\AppData\\Local\\Programs\\Python\\Python38\\python.exe -m pip install --upgrade pip' command.\n"
     ]
    }
   ],
   "source": [
    "pip install matplotlib"
   ]
  },
  {
   "cell_type": "code",
   "execution_count": 22,
   "metadata": {},
   "outputs": [],
   "source": [
    "import cv2"
   ]
  },
  {
   "cell_type": "code",
   "execution_count": 23,
   "metadata": {},
   "outputs": [],
   "source": [
    "import numpy as np"
   ]
  },
  {
   "cell_type": "code",
   "execution_count": 24,
   "metadata": {},
   "outputs": [],
   "source": [
    "import matplotlib.pyplot as plt"
   ]
  },
  {
   "cell_type": "code",
   "execution_count": 25,
   "metadata": {},
   "outputs": [],
   "source": [
    "from matplotlib import cm"
   ]
  },
  {
   "cell_type": "code",
   "execution_count": 26,
   "metadata": {},
   "outputs": [],
   "source": [
    "import OpenStreetMap "
   ]
  },
  {
   "cell_type": "code",
   "execution_count": 27,
   "metadata": {},
   "outputs": [],
   "source": [
    "import OpenWeather"
   ]
  },
  {
   "cell_type": "code",
   "execution_count": 28,
   "metadata": {},
   "outputs": [],
   "source": [
    "import Simulation"
   ]
  },
  {
   "cell_type": "code",
   "execution_count": 29,
   "metadata": {},
   "outputs": [],
   "source": [
    "import eel"
   ]
  },
  {
   "cell_type": "code",
   "execution_count": 30,
   "metadata": {},
   "outputs": [],
   "source": [
    "import json"
   ]
  },
  {
   "cell_type": "code",
   "execution_count": 33,
   "metadata": {},
   "outputs": [
    {
     "ename": "AssertionError",
     "evalue": "Already exposed function with name \"main_simulation\"",
     "output_type": "error",
     "traceback": [
      "\u001b[1;31m---------------------------------------------------------------------------\u001b[0m",
      "\u001b[1;31mAssertionError\u001b[0m                            Traceback (most recent call last)",
      "\u001b[1;32mセル19 を c:\\Users\\kogan\\Downloads\\Python-Cesium-Wind\\Untitled-1.ipynb\u001b[0m in \u001b[0;36m<cell line: 1>\u001b[1;34m()\u001b[0m\n\u001b[0;32m      <a href='vscode-notebook-cell:/c%3A/Users/kogan/Downloads/Python-Cesium-Wind/Untitled-1.ipynb#X35sZmlsZQ%3D%3D?line=0'>1</a>\u001b[0m \u001b[39m@eel\u001b[39;49m\u001b[39m.\u001b[39;49mexpose   \u001b[39m# JavaScriptから呼び出したいPython関数の前にこれを記述\u001b[39;49;00m\n\u001b[1;32m----> <a href='vscode-notebook-cell:/c%3A/Users/kogan/Downloads/Python-Cesium-Wind/Untitled-1.ipynb#X35sZmlsZQ%3D%3D?line=1'>2</a>\u001b[0m \u001b[39mdef\u001b[39;49;00m \u001b[39mmain_simulation\u001b[39;49m():\n\u001b[0;32m      <a href='vscode-notebook-cell:/c%3A/Users/kogan/Downloads/Python-Cesium-Wind/Untitled-1.ipynb#X35sZmlsZQ%3D%3D?line=2'>3</a>\u001b[0m     \u001b[39m# 表示地点の緯度経度 \u001b[39;49;00m\n\u001b[0;32m      <a href='vscode-notebook-cell:/c%3A/Users/kogan/Downloads/Python-Cesium-Wind/Untitled-1.ipynb#X35sZmlsZQ%3D%3D?line=3'>4</a>\u001b[0m     \u001b[39m# Vue.jsからポストされた任意の地点を設定できるようにすること\u001b[39;49;00m\n\u001b[0;32m      <a href='vscode-notebook-cell:/c%3A/Users/kogan/Downloads/Python-Cesium-Wind/Untitled-1.ipynb#X35sZmlsZQ%3D%3D?line=5'>6</a>\u001b[0m     lat \u001b[39m=\u001b[39;49m \u001b[39m36.147\u001b[39;49m\t\t\t\n\u001b[0;32m      <a href='vscode-notebook-cell:/c%3A/Users/kogan/Downloads/Python-Cesium-Wind/Untitled-1.ipynb#X35sZmlsZQ%3D%3D?line=6'>7</a>\u001b[0m     lon \u001b[39m=\u001b[39;49m \u001b[39m139.388\u001b[39;49m\n",
      "File \u001b[1;32mc:\\Users\\kogan\\AppData\\Local\\Programs\\Python\\Python38\\lib\\site-packages\\eel\\__init__.py:83\u001b[0m, in \u001b[0;36mexpose\u001b[1;34m(name_or_function)\u001b[0m\n\u001b[0;32m     81\u001b[0m \u001b[39melse\u001b[39;00m:\n\u001b[0;32m     82\u001b[0m     function \u001b[39m=\u001b[39m name_or_function\n\u001b[1;32m---> 83\u001b[0m     _expose(function\u001b[39m.\u001b[39;49m\u001b[39m__name__\u001b[39;49m, function)\n\u001b[0;32m     84\u001b[0m     \u001b[39mreturn\u001b[39;00m function\n",
      "File \u001b[1;32mc:\\Users\\kogan\\AppData\\Local\\Programs\\Python\\Python38\\lib\\site-packages\\eel\\__init__.py:362\u001b[0m, in \u001b[0;36m_expose\u001b[1;34m(name, function)\u001b[0m\n\u001b[0;32m    360\u001b[0m \u001b[39mdef\u001b[39;00m \u001b[39m_expose\u001b[39m(name, function):\n\u001b[0;32m    361\u001b[0m     msg \u001b[39m=\u001b[39m \u001b[39m'\u001b[39m\u001b[39mAlready exposed function with name \u001b[39m\u001b[39m\"\u001b[39m\u001b[39m%s\u001b[39;00m\u001b[39m\"\u001b[39m\u001b[39m'\u001b[39m \u001b[39m%\u001b[39m name\n\u001b[1;32m--> 362\u001b[0m     \u001b[39massert\u001b[39;00m name \u001b[39mnot\u001b[39;00m \u001b[39min\u001b[39;00m _exposed_functions, msg\n\u001b[0;32m    363\u001b[0m     _exposed_functions[name] \u001b[39m=\u001b[39m function\n",
      "\u001b[1;31mAssertionError\u001b[0m: Already exposed function with name \"main_simulation\""
     ]
    }
   ],
   "source": [
    "@eel.expose   # JavaScriptから呼び出したいPython関数の前にこれを記述\n",
    "def main_simulation():\n",
    "    # 表示地点の緯度経度 \n",
    "    # Vue.jsからポストされた任意の地点を設定できるようにすること\n",
    "\n",
    "    lat = 36.147\t\t\t\n",
    "    lon = 139.388\n",
    "\n",
    "    # Map基点(lat,lon)から終点までの距離（緯度経度）\n",
    "    angle = 0.00001\n",
    "\n",
    "    # -------- OpenWeatherMapから風データを取得する(OpenWeather.py) --------\n",
    "    # 自アカウントのAPIKey\n",
    "    appid = 'f62cd99ae3ad4f54c119ca6464485f46'\n",
    "    # 明日以降の天気情報を取得するURL\n",
    "    forecast_url = 'http://api.openweathermap.org/data/2.5/forecast'\n",
    "\n",
    "    wind_speed, wind_deg = OpenWeather.forecast(lat, lon, appid, forecast_url)\n",
    "\n",
    "    # -------- 地図画像の取得と建築物地図の作成(OpenStreetMap.py) --------\n",
    "    fig = plt.figure(figsize=(11, 11), dpi=300)\n",
    "\n",
    "    ratio = 16  # 16\n",
    "    nx = int(768/ratio)\n",
    "    ny = int(768/ratio)\n",
    "    \n",
    "    myLat = 36.147\n",
    "    myLon = 139.388\n",
    "\n",
    "    # 解像度違いの地図画像\n",
    "    mapImg, lowImg  = OpenStreetMap.getMapFromOSM(myLat, myLon, nx, ny, angle)  \n",
    "    # 解像度違いのマスク（建物配置）画像\n",
    "    lowImg, lowMask = OpenStreetMap.getMaskFromMap(lowImg) \n",
    "    # 高解像度の地図画像を使い、流体粒子表示用の画像を生成・保存\n",
    "    negaMap = 255 - mapImg\n",
    "\n",
    "    plt.imshow(mapImg)\n",
    "    #plt.imshow(lowMask)\n",
    "    cv2.imwrite('mapimg.png', mapImg)\n",
    "    cv2.imwrite('lowImg.png', lowImg)\n",
    "    cv2.imwrite('lowMask.png', lowMask)\n",
    "    cv2.imwrite('negaMap.png', negaMap)\n",
    "\n",
    "    # -------- 流体計算を行う(Simulation.py) --------\n",
    "    u, v, velocity = Simulation.doSimulation(nx, ny, wind_speed, wind_deg, lowMask, 'withOutUVMap')\n",
    " \n",
    "    # -------- 風速ベクトル図を2次元マップ上に可視化する --------\n",
    "    fig = plt.figure(figsize=(11, 7), dpi=300)\n",
    "    plt.imshow(mapImg)\n",
    "    plotX, plotY = np.meshgrid(np.linspace(0, nx*ratio, nx), np.linspace(0, ny*ratio, ny)) \n",
    "            # np.linspace：等差数列を生成 np.linspace(最初の値、最後の値、要素数) \n",
    "\n",
    "    plt.contourf(plotX, plotY, velocity, alpha=0.2, cmap=cm.jet)\n",
    "    plt.colorbar()\n",
    "    plt.quiver(plotX, plotY, u, v)\n",
    "    #plt.streamplot(plotX, plotY, u, -v)\n",
    "    plt.xlabel('X')\n",
    "    plt.ylabel('Y')\n",
    "    #print(plotY)\n",
    "    #print(np.amax(u),np.amax(v))\n",
    "    #print(velocity)\n",
    "\n",
    "    plt.savefig('figure1.png')\n",
    "\n",
    "    # -------- Cesiumでベクトル図を表示できるよう、風速u,vを始点・終点座標に変換する --------\n",
    "    # 指定した緯度経度とズーム率から、その点を含んだ地図タイル（中心に配置される）の座標を取得する\n",
    "    x, y = OpenStreetMap.get_tile_num(myLat, myLon, 19)\n",
    "\n",
    "    print('中心のタイル地図のタイル座標=',x,y) # 中心のタイル地図のタイル座標は、タイル地図一枚ごとに与えられる）\n",
    "\n",
    "    # 9枚のタイル地図のうち、中心タイルの左上のタイル地図の、一番左上端の緯度経度を取得する\n",
    "    left_bottom0a, left_bottom1a, right_top0a, right_top1a = OpenStreetMap.get_tile_bbox(19, x - 1, y - 1)\n",
    "    newLat_lefttop = right_top1a    # 左上端緯度\n",
    "    newLon_lefttop = left_bottom0a  # 左上端経度\n",
    "\n",
    "    # 9枚のタイル地図のうち、中心タイルの右下のタイル地図の、一番右下端の緯度経度を取得する\n",
    "    left_bottom0b, left_bottom1b, right_top0b, right_top1b = OpenStreetMap.get_tile_bbox(19, x + 1, y + 1)\n",
    "    newLat_rightbottom = left_bottom1b  # 右下端緯度\n",
    "    newLon_rightbottom = right_top0b    # 右下端緯度\n",
    "\n",
    "    print('画像一番左上の緯度経度=',newLat_lefttop, newLon_lefttop)\n",
    "    print('画像一番右下の緯度経度=',newLat_rightbottom, newLon_rightbottom)\n",
    "\n",
    "    # メッシュ座標値を緯度経度に変換する  \n",
    "    plot_lon_x, plot_lat_y = np.meshgrid(np.linspace(newLon_lefttop, newLon_rightbottom, nx), np.linspace(newLat_lefttop, newLat_rightbottom,  ny))\n",
    "\n",
    "    # 風速u,vを座標値に変換する　（1メッシュのx方向の長さ,y方向の長さをそれぞれ10m/sと仮定し、10m/sからのu,vの比率を計算して座標値に変換する）\n",
    "    max_u = 5.0   # 1メッシュ（x方向）の長さを10m/sとする\n",
    "    max_v = 5.0   # 1メッシュ（y方向）の長さを10m/sとする\n",
    "\n",
    "    def calc_lon_u(x):\n",
    "        # メッシュサイズからx方向風速を緯度経度（相対座標）に変換\n",
    "        return ((x / max_u) * ((newLon_rightbottom - newLon_lefttop) / nx))\n",
    "\n",
    "    def calc_lat_v(y):\n",
    "        # メッシュサイズからy方向風速を緯度経度（相対座標）に変換\n",
    "        return ((y / max_v) * ((newLat_lefttop - newLat_rightbottom) / ny))\n",
    "\n",
    "    lon_u = list(map(calc_lon_u, u))  # x方向風速u全てに緯度経度（相対座標）変換結果をマッピング\n",
    "    lat_v = list(map(calc_lat_v, v))  # y方向風速v全てに緯度経度（相対座標）変換結果をマッピング\n",
    "\n",
    "    # 風速が1.0m/sec未満の場合はフラグ0を設定する（Cesiumでの色分け用）\n",
    "    flag_velocity=[]\n",
    "    for i in range(48):\n",
    "        for j in range(48):\n",
    "            if (velocity[i][j] < 5.0):  # Cesiumで描画するとき、ベクトルの色を変える風速の閾値\n",
    "                flag_velocity.append(0)\n",
    "            else:\n",
    "                flag_velocity.append(1)\n",
    "\n",
    "    flag_velocity = np.array(flag_velocity).reshape(48,48)\n",
    "\n",
    "    # 風速の始点・終点座標を設定する\n",
    "    # 始点座標はstartpoint_x[始点からの行][始点からの列]で取り出す。（終点座標も同様）\n",
    "    \n",
    "    # 始点座標\n",
    "    startpoint_x = plot_lon_x\n",
    "    startpoint_y = plot_lat_y\n",
    "\n",
    "    #終点座標\n",
    "    endpoint_x = np.array(startpoint_x) + np.array(lon_u)\n",
    "    endpoint_y = np.array(startpoint_y) + np.array(lat_v)\n",
    "\n",
    "    #numpy配列ndarrayをリストに変換\n",
    "    x_start_tolist = startpoint_x.tolist()\n",
    "    y_start_tolist = startpoint_y.tolist()\n",
    "\n",
    "    x_end_tolist = endpoint_x.tolist()  \n",
    "    y_end_tolist = endpoint_y.tolist()\n",
    "    flag_velocity = flag_velocity.tolist()\n",
    "\n",
    "    return x_start_tolist, y_start_tolist, x_end_tolist, y_end_tolist, flag_velocity"
   ]
  },
  {
   "cell_type": "code",
   "execution_count": 32,
   "metadata": {},
   "outputs": [
    {
     "ename": "AssertionError",
     "evalue": "Already exposed function with name \"main_simulation\"",
     "output_type": "error",
     "traceback": [
      "\u001b[1;31m---------------------------------------------------------------------------\u001b[0m",
      "\u001b[1;31mAssertionError\u001b[0m                            Traceback (most recent call last)",
      "\u001b[1;32mセル20 を c:\\Users\\kogan\\Downloads\\Python-Cesium-Wind\\Untitled-1.ipynb\u001b[0m in \u001b[0;36m<cell line: 1>\u001b[1;34m()\u001b[0m\n\u001b[0;32m      <a href='vscode-notebook-cell:/c%3A/Users/kogan/Downloads/Python-Cesium-Wind/Untitled-1.ipynb#X30sZmlsZQ%3D%3D?line=0'>1</a>\u001b[0m \u001b[39m@eel\u001b[39;49m\u001b[39m.\u001b[39;49mexpose   \u001b[39m# JavaScriptから呼び出したいPython関数の前にこれを記述\u001b[39;49;00m\n\u001b[1;32m----> <a href='vscode-notebook-cell:/c%3A/Users/kogan/Downloads/Python-Cesium-Wind/Untitled-1.ipynb#X30sZmlsZQ%3D%3D?line=1'>2</a>\u001b[0m \u001b[39mdef\u001b[39;49;00m \u001b[39mmain_simulation\u001b[39;49m():\n\u001b[0;32m      <a href='vscode-notebook-cell:/c%3A/Users/kogan/Downloads/Python-Cesium-Wind/Untitled-1.ipynb#X30sZmlsZQ%3D%3D?line=2'>3</a>\u001b[0m     \u001b[39m# 表示地点の緯度経度 \u001b[39;49;00m\n\u001b[0;32m      <a href='vscode-notebook-cell:/c%3A/Users/kogan/Downloads/Python-Cesium-Wind/Untitled-1.ipynb#X30sZmlsZQ%3D%3D?line=3'>4</a>\u001b[0m     \u001b[39m# Vue.jsからポストされた任意の地点を設定できるようにすること\u001b[39;49;00m\n\u001b[0;32m      <a href='vscode-notebook-cell:/c%3A/Users/kogan/Downloads/Python-Cesium-Wind/Untitled-1.ipynb#X30sZmlsZQ%3D%3D?line=5'>6</a>\u001b[0m     lat \u001b[39m=\u001b[39;49m \u001b[39m36.147\u001b[39;49m\t\t\t\n\u001b[0;32m      <a href='vscode-notebook-cell:/c%3A/Users/kogan/Downloads/Python-Cesium-Wind/Untitled-1.ipynb#X30sZmlsZQ%3D%3D?line=6'>7</a>\u001b[0m     lon \u001b[39m=\u001b[39;49m \u001b[39m139.388\u001b[39;49m\n",
      "File \u001b[1;32mc:\\Users\\kogan\\AppData\\Local\\Programs\\Python\\Python38\\lib\\site-packages\\eel\\__init__.py:83\u001b[0m, in \u001b[0;36mexpose\u001b[1;34m(name_or_function)\u001b[0m\n\u001b[0;32m     81\u001b[0m \u001b[39melse\u001b[39;00m:\n\u001b[0;32m     82\u001b[0m     function \u001b[39m=\u001b[39m name_or_function\n\u001b[1;32m---> 83\u001b[0m     _expose(function\u001b[39m.\u001b[39;49m\u001b[39m__name__\u001b[39;49m, function)\n\u001b[0;32m     84\u001b[0m     \u001b[39mreturn\u001b[39;00m function\n",
      "File \u001b[1;32mc:\\Users\\kogan\\AppData\\Local\\Programs\\Python\\Python38\\lib\\site-packages\\eel\\__init__.py:362\u001b[0m, in \u001b[0;36m_expose\u001b[1;34m(name, function)\u001b[0m\n\u001b[0;32m    360\u001b[0m \u001b[39mdef\u001b[39;00m \u001b[39m_expose\u001b[39m(name, function):\n\u001b[0;32m    361\u001b[0m     msg \u001b[39m=\u001b[39m \u001b[39m'\u001b[39m\u001b[39mAlready exposed function with name \u001b[39m\u001b[39m\"\u001b[39m\u001b[39m%s\u001b[39;00m\u001b[39m\"\u001b[39m\u001b[39m'\u001b[39m \u001b[39m%\u001b[39m name\n\u001b[1;32m--> 362\u001b[0m     \u001b[39massert\u001b[39;00m name \u001b[39mnot\u001b[39;00m \u001b[39min\u001b[39;00m _exposed_functions, msg\n\u001b[0;32m    363\u001b[0m     _exposed_functions[name] \u001b[39m=\u001b[39m function\n",
      "\u001b[1;31mAssertionError\u001b[0m: Already exposed function with name \"main_simulation\""
     ]
    }
   ],
   "source": [
    "@eel.expose   # JavaScriptから呼び出したいPython関数の前にこれを記述\n",
    "def main_simulation():\n",
    "    # 表示地点の緯度経度 \n",
    "    # Vue.jsからポストされた任意の地点を設定できるようにすること\n",
    "\n",
    "    lat = 36.147\t\t\t\n",
    "    lon = 139.388\n",
    "\n",
    "    # Map基点(lat,lon)から終点までの距離（緯度経度）\n",
    "    angle = 0.00001\n",
    "\n",
    "    # -------- OpenWeatherMapから風データを取得する(OpenWeather.py) --------\n",
    "    # 自アカウントのAPIKey\n",
    "    appid = 'f62cd99ae3ad4f54c119ca6464485f46'\n",
    "    # 明日以降の天気情報を取得するURL\n",
    "    forecast_url = 'http://api.openweathermap.org/data/2.5/forecast'\n",
    "\n",
    "    wind_speed, wind_deg = OpenWeather.forecast(lat, lon, appid, forecast_url)\n",
    "\n",
    "    # -------- 地図画像の取得と建築物地図の作成(OpenStreetMap.py) --------\n",
    "    fig = plt.figure(figsize=(11, 11), dpi=300)\n",
    "\n",
    "    ratio = 16  # 16\n",
    "    nx = int(768/ratio)\n",
    "    ny = int(768/ratio)\n",
    "    \n",
    "    myLat = 36.147\n",
    "    myLon = 139.388\n",
    "\n",
    "    # 解像度違いの地図画像\n",
    "    mapImg, lowImg  = OpenStreetMap.getMapFromOSM(myLat, myLon, nx, ny, angle)  \n",
    "    # 解像度違いのマスク（建物配置）画像\n",
    "    lowImg, lowMask = OpenStreetMap.getMaskFromMap(lowImg) \n",
    "    # 高解像度の地図画像を使い、流体粒子表示用の画像を生成・保存\n",
    "    negaMap = 255 - mapImg\n",
    "\n",
    "    plt.imshow(mapImg)\n",
    "    #plt.imshow(lowMask)\n",
    "    cv2.imwrite('mapimg.png', mapImg)\n",
    "    cv2.imwrite('lowImg.png', lowImg)\n",
    "    cv2.imwrite('lowMask.png', lowMask)\n",
    "    cv2.imwrite('negaMap.png', negaMap)\n",
    "\n",
    "    # -------- 流体計算を行う(Simulation.py) --------\n",
    "    u, v, velocity = Simulation.doSimulation(nx, ny, wind_speed, wind_deg, lowMask, 'withOutUVMap')\n",
    " \n",
    "    # -------- 風速ベクトル図を2次元マップ上に可視化する --------\n",
    "    fig = plt.figure(figsize=(11, 7), dpi=300)\n",
    "    plt.imshow(mapImg)\n",
    "    plotX, plotY = np.meshgrid(np.linspace(0, nx*ratio, nx), np.linspace(0, ny*ratio, ny)) \n",
    "            # np.linspace：等差数列を生成 np.linspace(最初の値、最後の値、要素数) \n",
    "\n",
    "    plt.contourf(plotX, plotY, velocity, alpha=0.2, cmap=cm.jet)\n",
    "    plt.colorbar()\n",
    "    plt.quiver(plotX, plotY, u, v)\n",
    "    #plt.streamplot(plotX, plotY, u, -v)\n",
    "    plt.xlabel('X')\n",
    "    plt.ylabel('Y')\n",
    "    #print(plotY)\n",
    "    #print(np.amax(u),np.amax(v))\n",
    "    #print(velocity)\n",
    "\n",
    "    plt.savefig('figure1.png')\n",
    "\n",
    "    # -------- Cesiumでベクトル図を表示できるよう、風速u,vを始点・終点座標に変換する --------\n",
    "    # 指定した緯度経度とズーム率から、その点を含んだ地図タイル（中心に配置される）の座標を取得する\n",
    "    x, y = OpenStreetMap.get_tile_num(myLat, myLon, 19)\n",
    "\n",
    "    print('中心のタイル地図のタイル座標=',x,y) # 中心のタイル地図のタイル座標は、タイル地図一枚ごとに与えられる）\n",
    "\n",
    "    # 9枚のタイル地図のうち、中心タイルの左上のタイル地図の、一番左上端の緯度経度を取得する\n",
    "    left_bottom0a, left_bottom1a, right_top0a, right_top1a = OpenStreetMap.get_tile_bbox(19, x - 1, y - 1)\n",
    "    newLat_lefttop = right_top1a    # 左上端緯度\n",
    "    newLon_lefttop = left_bottom0a  # 左上端経度\n",
    "\n",
    "    # 9枚のタイル地図のうち、中心タイルの右下のタイル地図の、一番右下端の緯度経度を取得する\n",
    "    left_bottom0b, left_bottom1b, right_top0b, right_top1b = OpenStreetMap.get_tile_bbox(19, x + 1, y + 1)\n",
    "    newLat_rightbottom = left_bottom1b  # 右下端緯度\n",
    "    newLon_rightbottom = right_top0b    # 右下端緯度\n",
    "\n",
    "    print('画像一番左上の緯度経度=',newLat_lefttop, newLon_lefttop)\n",
    "    print('画像一番右下の緯度経度=',newLat_rightbottom, newLon_rightbottom)\n",
    "\n",
    "    # メッシュ座標値を緯度経度に変換する  \n",
    "    plot_lon_x, plot_lat_y = np.meshgrid(np.linspace(newLon_lefttop, newLon_rightbottom, nx), np.linspace(newLat_lefttop, newLat_rightbottom,  ny))\n",
    "\n",
    "    # 風速u,vを座標値に変換する　（1メッシュのx方向の長さ,y方向の長さをそれぞれ10m/sと仮定し、10m/sからのu,vの比率を計算して座標値に変換する）\n",
    "    max_u = 5.0   # 1メッシュ（x方向）の長さを10m/sとする\n",
    "    max_v = 5.0   # 1メッシュ（y方向）の長さを10m/sとする\n",
    "\n",
    "    def calc_lon_u(x):\n",
    "        # メッシュサイズからx方向風速を緯度経度（相対座標）に変換\n",
    "        return ((x / max_u) * ((newLon_rightbottom - newLon_lefttop) / nx))\n",
    "\n",
    "    def calc_lat_v(y):\n",
    "        # メッシュサイズからy方向風速を緯度経度（相対座標）に変換\n",
    "        return ((y / max_v) * ((newLat_lefttop - newLat_rightbottom) / ny))\n",
    "\n",
    "    lon_u = list(map(calc_lon_u, u))  # x方向風速u全てに緯度経度（相対座標）変換結果をマッピング\n",
    "    lat_v = list(map(calc_lat_v, v))  # y方向風速v全てに緯度経度（相対座標）変換結果をマッピング\n",
    "\n",
    "    # 風速が1.0m/sec未満の場合はフラグ0を設定する（Cesiumでの色分け用）\n",
    "    flag_velocity=[]\n",
    "    for i in range(48):\n",
    "        for j in range(48):\n",
    "            if (velocity[i][j] < 5.0):  # Cesiumで描画するとき、ベクトルの色を変える風速の閾値\n",
    "                flag_velocity.append(0)\n",
    "            else:\n",
    "                flag_velocity.append(1)\n",
    "\n",
    "    flag_velocity = np.array(flag_velocity).reshape(48,48)\n",
    "\n",
    "    # 風速の始点・終点座標を設定する\n",
    "    # 始点座標はstartpoint_x[始点からの行][始点からの列]で取り出す。（終点座標も同様）\n",
    "    \n",
    "    # 始点座標\n",
    "    startpoint_x = plot_lon_x\n",
    "    startpoint_y = plot_lat_y\n",
    "\n",
    "    #終点座標\n",
    "    endpoint_x = np.array(startpoint_x) + np.array(lon_u)\n",
    "    endpoint_y = np.array(startpoint_y) + np.array(lat_v)\n",
    "\n",
    "    #numpy配列ndarrayをリストに変換\n",
    "    x_start_tolist = startpoint_x.tolist()\n",
    "    y_start_tolist = startpoint_y.tolist()\n",
    "\n",
    "    x_end_tolist = endpoint_x.tolist()  \n",
    "    y_end_tolist = endpoint_y.tolist()\n",
    "    flag_velocity = flag_velocity.tolist()\n",
    "\n",
    "    return x_start_tolist, y_start_tolist, x_end_tolist, y_end_tolist, flag_velocity\n"
   ]
  },
  {
   "cell_type": "code",
   "execution_count": null,
   "metadata": {},
   "outputs": [],
   "source": [
    "# html/css/jsの入っているディレクトリを指定\n",
    "eel.init('view', allowed_extensions=['.js', '.html', '.css'])"
   ]
  },
  {
   "cell_type": "code",
   "execution_count": null,
   "metadata": {},
   "outputs": [],
   "source": [
    "web_app_options = {\n",
    "\t'mode': \"chrome\",\n",
    "\t'port': 8080,\n",
    "    \n",
    "}"
   ]
  },
  {
   "cell_type": "code",
   "execution_count": null,
   "metadata": {},
   "outputs": [],
   "source": [
    "# 最初の画面のhtmlファイルを指定（会社のパソコン使用時：Chromeを使わない）\n",
    "eel.start('index.html', options=web_app_options, suppress_error=True)"
   ]
  },
  {
   "cell_type": "code",
   "execution_count": null,
   "metadata": {},
   "outputs": [],
   "source": [
    "# 最初の画面のhtmlファイルを指定（個人のパソコン使用時：Chromeを使う）\n",
    "eel.start('index.html')"
   ]
  }
 ],
 "metadata": {
  "kernelspec": {
   "display_name": "Python 3.8.5 64-bit",
   "language": "python",
   "name": "python3"
  },
  "language_info": {
   "codemirror_mode": {
    "name": "ipython",
    "version": 3
   },
   "file_extension": ".py",
   "mimetype": "text/x-python",
   "name": "python",
   "nbconvert_exporter": "python",
   "pygments_lexer": "ipython3",
   "version": "3.8.5"
  },
  "orig_nbformat": 4,
  "vscode": {
   "interpreter": {
    "hash": "57565692b3e009539cc37c0606834354c8dcffb7e69fd785d276aab6014d85f8"
   }
  }
 },
 "nbformat": 4,
 "nbformat_minor": 2
}
